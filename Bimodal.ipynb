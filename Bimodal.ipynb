{
 "cells": [
  {
   "cell_type": "code",
   "execution_count": 1,
   "id": "98c9a740-6dc7-463e-9963-b0f8e3b22e91",
   "metadata": {},
   "outputs": [],
   "source": [
    "import torch\n",
    "from tqdm import tqdm\n",
    "import numpy as np\n",
    "import sys\n",
    "import matplotlib.pyplot as plt\n",
    "import importlib\n",
    "import pandas as pd\n",
    "from scipy.stats import norm \n",
    "\n",
    "from utils import checkpoint, warning\n",
    "import utils\n",
    "import MCHMC, MCLMC\n",
    "import autotuning as aut\n",
    "import integration_schemes as integ\n",
    "import functions as funct\n",
    "import metrics\n",
    "\n",
    "np.random.seed(0)"
   ]
  },
  {
   "cell_type": "code",
   "execution_count": 2,
   "id": "96f57d22-009f-4ec7-9aa5-9eec755506b8",
   "metadata": {},
   "outputs": [],
   "source": [
    "importlib.reload(utils)\n",
    "importlib.reload(MCHMC)\n",
    "importlib.reload(MCLMC)\n",
    "importlib.reload(aut)\n",
    "importlib.reload(integ)\n",
    "importlib.reload(funct)\n",
    "importlib.reload(metrics);"
   ]
  },
  {
   "cell_type": "markdown",
   "id": "4f44ad61-93a8-48c2-891e-46a2e34ac767",
   "metadata": {},
   "source": [
    "## Global parameter optimization"
   ]
  },
  {
   "cell_type": "code",
   "execution_count": 3,
   "id": "0ede7380-6728-4fc0-bbbc-28cf221b0cbe",
   "metadata": {},
   "outputs": [],
   "source": [
    "fn = funct.bimodal\n",
    "d = 100\n",
    "n_chains = 5"
   ]
  },
  {
   "cell_type": "code",
   "execution_count": 22,
   "id": "93c702f0-e209-40f8-8994-efefbaa2ecf9",
   "metadata": {
    "collapsed": true,
    "jupyter": {
     "outputs_hidden": true
    }
   },
   "outputs": [
    {
     "name": "stdout",
     "output_type": "stream",
     "text": [
      "\n",
      "Running 5 iterations of MCHMC_bounces with 200 steps, updating epsilon\n"
     ]
    },
    {
     "name": "stderr",
     "output_type": "stream",
     "text": [
      "Running iterations: 100%|██████████████████████████████████████████████████████████████████████████████| 5/5 [00:10<00:00,  2.11s/it]\n"
     ]
    },
    {
     "name": "stdout",
     "output_type": "stream",
     "text": [
      "\n",
      "Running 5 iterations of MCHMC_bounces with 200 steps, updating L\n"
     ]
    },
    {
     "name": "stderr",
     "output_type": "stream",
     "text": [
      "Running iterations: 100%|██████████████████████████████████████████████████████████████████████████████| 5/5 [00:11<00:00,  2.22s/it]\n"
     ]
    },
    {
     "name": "stdout",
     "output_type": "stream",
     "text": [
      "\n",
      "Running 5 iterations of MCHMC_bounces with 200 steps, updating epsilon\n"
     ]
    },
    {
     "name": "stderr",
     "output_type": "stream",
     "text": [
      "Running iterations: 100%|██████████████████████████████████████████████████████████████████████████████| 5/5 [00:14<00:00,  2.93s/it]\n"
     ]
    },
    {
     "name": "stdout",
     "output_type": "stream",
     "text": [
      "\n",
      "Running 5 iterations of MCHMC_bounces with 200 steps, updating L\n"
     ]
    },
    {
     "name": "stderr",
     "output_type": "stream",
     "text": [
      "Running iterations: 100%|██████████████████████████████████████████████████████████████████████████████| 5/5 [00:15<00:00,  3.12s/it]\n"
     ]
    },
    {
     "name": "stdout",
     "output_type": "stream",
     "text": [
      "\n",
      "Running 5 iterations of MCLMC with 200 steps, updating epsilon\n"
     ]
    },
    {
     "name": "stderr",
     "output_type": "stream",
     "text": [
      "Running iterations: 100%|██████████████████████████████████████████████████████████████████████████████| 5/5 [00:12<00:00,  2.46s/it]\n"
     ]
    },
    {
     "name": "stdout",
     "output_type": "stream",
     "text": [
      "\n",
      "Running 5 iterations of MCLMC with 200 steps, updating L\n"
     ]
    },
    {
     "name": "stderr",
     "output_type": "stream",
     "text": [
      "Running iterations: 100%|██████████████████████████████████████████████████████████████████████████████| 5/5 [00:12<00:00,  2.50s/it]\n"
     ]
    },
    {
     "name": "stdout",
     "output_type": "stream",
     "text": [
      "\n",
      "Running 5 iterations of MCLMC with 200 steps, updating epsilon\n"
     ]
    },
    {
     "name": "stderr",
     "output_type": "stream",
     "text": [
      "Running iterations: 100%|██████████████████████████████████████████████████████████████████████████████| 5/5 [00:16<00:00,  3.24s/it]\n"
     ]
    },
    {
     "name": "stdout",
     "output_type": "stream",
     "text": [
      "\n",
      "Running 5 iterations of MCLMC with 200 steps, updating L\n"
     ]
    },
    {
     "name": "stderr",
     "output_type": "stream",
     "text": [
      "Running iterations: 100%|██████████████████████████████████████████████████████████████████████████████| 5/5 [00:16<00:00,  3.36s/it]\n"
     ]
    }
   ],
   "source": [
    "# create a csv file with the optimal hyperparameters value for all possible combinations (don't need to run it each time)\n",
    "# aut.get_hyperparams(fn=fn, d=d, L_init=10, output_csv='bimodal_hyperparams.cvs')"
   ]
  },
  {
   "cell_type": "code",
   "execution_count": 4,
   "id": "2334d33b-55ea-4184-b688-d294d62c693d",
   "metadata": {},
   "outputs": [
    {
     "data": {
      "text/html": [
       "<div>\n",
       "<style scoped>\n",
       "    .dataframe tbody tr th:only-of-type {\n",
       "        vertical-align: middle;\n",
       "    }\n",
       "\n",
       "    .dataframe tbody tr th {\n",
       "        vertical-align: top;\n",
       "    }\n",
       "\n",
       "    .dataframe thead th {\n",
       "        text-align: right;\n",
       "    }\n",
       "</style>\n",
       "<table border=\"1\" class=\"dataframe\">\n",
       "  <thead>\n",
       "    <tr style=\"text-align: right;\">\n",
       "      <th></th>\n",
       "      <th>algorithm</th>\n",
       "      <th>integ_scheme</th>\n",
       "      <th>eps</th>\n",
       "      <th>L</th>\n",
       "    </tr>\n",
       "  </thead>\n",
       "  <tbody>\n",
       "    <tr>\n",
       "      <th>0</th>\n",
       "      <td>MCHMC_bounces</td>\n",
       "      <td>leapfrog</td>\n",
       "      <td>6.363553</td>\n",
       "      <td>11.170290</td>\n",
       "    </tr>\n",
       "    <tr>\n",
       "      <th>1</th>\n",
       "      <td>MCHMC_bounces</td>\n",
       "      <td>minimal_norm</td>\n",
       "      <td>14.199900</td>\n",
       "      <td>7.885920</td>\n",
       "    </tr>\n",
       "    <tr>\n",
       "      <th>2</th>\n",
       "      <td>MCLMC</td>\n",
       "      <td>leapfrog</td>\n",
       "      <td>6.155703</td>\n",
       "      <td>8.714649</td>\n",
       "    </tr>\n",
       "    <tr>\n",
       "      <th>3</th>\n",
       "      <td>MCLMC</td>\n",
       "      <td>minimal_norm</td>\n",
       "      <td>13.597001</td>\n",
       "      <td>7.619791</td>\n",
       "    </tr>\n",
       "  </tbody>\n",
       "</table>\n",
       "</div>"
      ],
      "text/plain": [
       "       algorithm  integ_scheme        eps          L\n",
       "0  MCHMC_bounces      leapfrog   6.363553  11.170290\n",
       "1  MCHMC_bounces  minimal_norm  14.199900   7.885920\n",
       "2          MCLMC      leapfrog   6.155703   8.714649\n",
       "3          MCLMC  minimal_norm  13.597001   7.619791"
      ]
     },
     "execution_count": 4,
     "metadata": {},
     "output_type": "execute_result"
    }
   ],
   "source": [
    "# load it \n",
    "df = pd.read_csv('hyperparameters/bimodal_hyperparams.cvs')\n",
    "df"
   ]
  },
  {
   "cell_type": "markdown",
   "id": "cc2e3496-5b49-4d3d-808e-91a867c1e2b9",
   "metadata": {},
   "source": [
    "# Micro Canonical Hamiltonian Monte Carlo \n",
    "## Leapfrog "
   ]
  },
  {
   "cell_type": "code",
   "execution_count": 41,
   "id": "c9c9b3ff-e08f-4f84-ac5c-e75599f1f317",
   "metadata": {
    "collapsed": true,
    "jupyter": {
     "outputs_hidden": true
    }
   },
   "outputs": [
    {
     "name": "stderr",
     "output_type": "stream",
     "text": [
      "100%|████████████████████████████████████████████████████████████████████████████████████████████| 5000/5000 [00:53<00:00, 93.86it/s]\n",
      "100%|████████████████████████████████████████████████████████████████████████████████████████████| 5000/5000 [00:50<00:00, 98.78it/s]\n",
      "100%|████████████████████████████████████████████████████████████████████████████████████████████| 5000/5000 [00:51<00:00, 97.90it/s]\n",
      "100%|████████████████████████████████████████████████████████████████████████████████████████████| 5000/5000 [00:52<00:00, 95.95it/s]\n",
      "100%|████████████████████████████████████████████████████████████████████████████████████████████| 5000/5000 [00:51<00:00, 96.41it/s]\n"
     ]
    }
   ],
   "source": [
    "row = df[(df['algorithm'] == 'MCHMC_bounces') & (df['integ_scheme'] == 'leapfrog')]\n",
    "eps = row['eps'].values[0]\n",
    "L = row['L'].values[0]\n",
    "\n",
    "X, ess_mean, ess_min, ess_truth = MCHMC.MCHMC_chain(n_chains, d, fn, L, eps, int_scheme=integ.leapfrog)"
   ]
  },
  {
   "cell_type": "code",
   "execution_count": 42,
   "id": "daf4da25-5adc-4560-acca-9b2d95508cba",
   "metadata": {},
   "outputs": [
    {
     "data": {
      "image/png": "[encoded data removed]",
      "text/plain": [
       "<Figure size 640x480 with 1 Axes>"
      ]
     },
     "metadata": {},
     "output_type": "display_data"
    }
   ],
   "source": [
    "x = np.linspace(-20, 20, 10000)\n",
    "pdf = 0.8 * norm.pdf(x, 0, 1) + 0.2 * norm.pdf(x, 8, 1)\n",
    "\n",
    "X = X.to(\"cpu\").detach().numpy()\n",
    "plt.hist(X[:,0], density=True, alpha=0.5, bins=50, color='blue', label='MCHMC-LF')\n",
    "plt.scatter(x, pdf, color='orange', s=1, label='exact')\n",
    "plt.legend()\n",
    "plt.show()"
   ]
  },
  {
   "cell_type": "code",
   "execution_count": 44,
   "id": "5b24c593-7268-4ce5-b900-64c1bf5d8ae8",
   "metadata": {},
   "outputs": [
    {
     "name": "stdout",
     "output_type": "stream",
     "text": [
      "ESS with MCHMC-bounces and LF integrator \n",
      " mean: 0.052 \n",
      " min: 0.034 \n",
      " ground truth: 0.039\n"
     ]
    }
   ],
   "source": [
    "print(f'ESS with MCHMC-bounces and LF integrator \\n mean: {ess_mean:.3f} \\n min: {ess_min:.3f} \\n ground truth: {ess_truth:.3f}')"
   ]
  },
  {
   "cell_type": "markdown",
   "id": "b3dc02af-6ba3-489b-a8d1-8d77e1e4bdf1",
   "metadata": {},
   "source": [
    "## Minimal norm"
   ]
  },
  {
   "cell_type": "code",
   "execution_count": 45,
   "id": "34071417-cb4b-4b69-9f8a-d01b3e2fa23f",
   "metadata": {
    "collapsed": true,
    "jupyter": {
     "outputs_hidden": true
    }
   },
   "outputs": [
    {
     "name": "stderr",
     "output_type": "stream",
     "text": [
      "100%|████████████████████████████████████████████████████████████████████████████████████████████| 5000/5000 [01:11<00:00, 69.92it/s]\n",
      "100%|████████████████████████████████████████████████████████████████████████████████████████████| 5000/5000 [01:10<00:00, 70.67it/s]\n",
      "100%|████████████████████████████████████████████████████████████████████████████████████████████| 5000/5000 [01:11<00:00, 70.31it/s]\n",
      "100%|████████████████████████████████████████████████████████████████████████████████████████████| 5000/5000 [01:10<00:00, 70.93it/s]\n",
      "100%|████████████████████████████████████████████████████████████████████████████████████████████| 5000/5000 [01:10<00:00, 70.87it/s]\n"
     ]
    }
   ],
   "source": [
    "row = df[(df['algorithm'] == 'MCHMC_bounces') & (df['integ_scheme'] == 'minimal_norm')]\n",
    "eps = row['eps'].values[0]\n",
    "L = row['L'].values[0]\n",
    "\n",
    "X, ess_mean, ess_min, ess_truth = MCHMC.MCHMC_chain(n_chains, d, fn, L, eps, int_scheme=integ.minimal_norm)"
   ]
  },
  {
   "cell_type": "code",
   "execution_count": 46,
   "id": "3d2a5c08-0563-4b9a-a7b4-f3185a646e89",
   "metadata": {},
   "outputs": [
    {
     "data": {
      "image/png": "[encoded data removed]",
      "text/plain": [
       "<Figure size 640x480 with 1 Axes>"
      ]
     },
     "metadata": {},
     "output_type": "display_data"
    }
   ],
   "source": [
    "X = X.to(\"cpu\").detach().numpy()\n",
    "plt.hist(X[:,0], density=True, alpha=0.5, bins=50, color='blue', label='MCHMC-MN')\n",
    "plt.scatter(x, pdf, color='orange', s=1, label='exact')\n",
    "plt.legend()\n",
    "plt.show()"
   ]
  },
  {
   "cell_type": "code",
   "execution_count": 47,
   "id": "d0438f71-ef82-4070-93b3-a83300b9bcaf",
   "metadata": {},
   "outputs": [
    {
     "name": "stdout",
     "output_type": "stream",
     "text": [
      "ESS with MCHMC-bounces and MN integrator \n",
      " mean: 0.397 \n",
      " min: 0.224 \n",
      " ground truth: 0.036\n"
     ]
    }
   ],
   "source": [
    "print(f'ESS with MCHMC-bounces and MN integrator \\n mean: {ess_mean:.3f} \\n min: {ess_min:.3f} \\n ground truth: {ess_truth:.3f}')"
   ]
  },
  {
   "cell_type": "markdown",
   "id": "bcdb3c4e-ebd1-4d0f-bac6-920abb5200bc",
   "metadata": {},
   "source": [
    "---------\n",
    "# Langevin Like Hamiltonian Monte Carlo \n",
    "## Leapfrog"
   ]
  },
  {
   "cell_type": "code",
   "execution_count": 6,
   "id": "052e9eb6-c59a-4923-a6d3-b308b5572d9d",
   "metadata": {
    "collapsed": true,
    "jupyter": {
     "outputs_hidden": true
    },
    "scrolled": true
   },
   "outputs": [
    {
     "name": "stderr",
     "output_type": "stream",
     "text": [
      "/home/ubuntu/MCHMC/MCLMC.py:42: UserWarning: To copy construct from a tensor, it is recommended to use sourceTensor.detach().clone() or sourceTensor.detach().clone().requires_grad_(True), rather than torch.tensor(sourceTensor).\n",
      "  x = torch.tensor(x, dtype=torch.float32, device=device)\n",
      "100%|████████████████████████████████████████████████████████████████████████████████████████████| 5000/5000 [00:50<00:00, 99.48it/s]\n",
      "E0705 07:19:16.778051  261888 cuda_dnn.cc:522] Loaded runtime CuDNN library: 9.5.1 but source was compiled with: 9.8.0.  CuDNN library needs to have matching major version and equal or higher minor version. If using a binary install, upgrade your CuDNN library.  If building from sources, make sure the library loaded at runtime is compatible with the version specified during compile configuration.\n",
      "E0705 07:19:16.778697  261888 cuda_dnn.cc:522] Loaded runtime CuDNN library: 9.5.1 but source was compiled with: 9.8.0.  CuDNN library needs to have matching major version and equal or higher minor version. If using a binary install, upgrade your CuDNN library.  If building from sources, make sure the library loaded at runtime is compatible with the version specified during compile configuration.\n",
      "100%|████████████████████████████████████████████████████████████████████████████████████████████| 5000/5000 [00:53<00:00, 94.27it/s]\n",
      "100%|████████████████████████████████████████████████████████████████████████████████████████████| 5000/5000 [00:52<00:00, 95.34it/s]\n",
      "100%|████████████████████████████████████████████████████████████████████████████████████████████| 5000/5000 [00:52<00:00, 95.28it/s]\n",
      "100%|████████████████████████████████████████████████████████████████████████████████████████████| 5000/5000 [00:52<00:00, 95.31it/s]\n"
     ]
    }
   ],
   "source": [
    "row = df[(df['algorithm'] == 'MCLMC') & (df['integ_scheme'] == 'leapfrog')]\n",
    "eps = row['eps'].values[0]\n",
    "eps = torch.tensor(eps, device=utils.choose_device())\n",
    "L = row['L'].values[0]\n",
    "L = torch.tensor(L, device=utils.choose_device())\n",
    "\n",
    "X, ess_mean, ess_min, ess_truth = MCLMC.MCLMC_chain(n_chains, d, fn, L, eps, int_scheme=integ.leapfrog)"
   ]
  },
  {
   "cell_type": "code",
   "execution_count": 10,
   "id": "9d5083f7-40c7-49b0-85ac-632a44026f3a",
   "metadata": {},
   "outputs": [
    {
     "data": {
      "image/png": "[encoded data removed]",
      "text/plain": [
       "<Figure size 640x480 with 1 Axes>"
      ]
     },
     "metadata": {},
     "output_type": "display_data"
    }
   ],
   "source": [
    "X = X.to(\"cpu\").detach().numpy()\n",
    "plt.hist(X[:,0], density=True, alpha=0.5, bins=50, color='blue', label='MCLMC-LF')\n",
    "plt.scatter(x, pdf, color='orange', s=1, label='exact')\n",
    "plt.legend()\n",
    "plt.show()"
   ]
  },
  {
   "cell_type": "code",
   "execution_count": 7,
   "id": "2e8b3943-90ff-44ad-b71b-54085e354af7",
   "metadata": {},
   "outputs": [
    {
     "name": "stdout",
     "output_type": "stream",
     "text": [
      "ESS with MCLMC and LF integrator \n",
      " mean: 0.141 \n",
      " min: 0.098 \n",
      " ground truth: 0.039\n"
     ]
    }
   ],
   "source": [
    "print(f'ESS with MCLMC and LF integrator \\n mean: {ess_mean:.3f} \\n min: {ess_min:.3f} \\n ground truth: {ess_truth:.3f}')"
   ]
  },
  {
   "cell_type": "markdown",
   "id": "1c747d53-ce40-4c45-9403-8eaf3dfefb18",
   "metadata": {},
   "source": [
    "## Minimal norm"
   ]
  },
  {
   "cell_type": "code",
   "execution_count": 5,
   "id": "dc7c9e48-ba29-4c13-b1f9-dfcd9aef811e",
   "metadata": {
    "collapsed": true,
    "jupyter": {
     "outputs_hidden": true
    },
    "scrolled": true
   },
   "outputs": [
    {
     "name": "stderr",
     "output_type": "stream",
     "text": [
      "/home/ubuntu/.local/lib/python3.10/site-packages/torch/cuda/__init__.py:789: UserWarning: Can't initialize NVML\n",
      "  warnings.warn(\"Can't initialize NVML\")\n",
      "/home/ubuntu/MCHMC/MCLMC.py:42: UserWarning: To copy construct from a tensor, it is recommended to use sourceTensor.detach().clone() or sourceTensor.detach().clone().requires_grad_(True), rather than torch.tensor(sourceTensor).\n",
      "  x = torch.tensor(x, dtype=torch.float32, device=device)\n",
      "100%|████████████████████████████████████████████████████████████████████████████████████████████| 5000/5000 [01:06<00:00, 74.64it/s]\n",
      "E0715 09:30:32.916550  321034 cuda_dnn.cc:522] Loaded runtime CuDNN library: 9.5.1 but source was compiled with: 9.8.0.  CuDNN library needs to have matching major version and equal or higher minor version. If using a binary install, upgrade your CuDNN library.  If building from sources, make sure the library loaded at runtime is compatible with the version specified during compile configuration.\n",
      "E0715 09:30:32.917222  321034 cuda_dnn.cc:522] Loaded runtime CuDNN library: 9.5.1 but source was compiled with: 9.8.0.  CuDNN library needs to have matching major version and equal or higher minor version. If using a binary install, upgrade your CuDNN library.  If building from sources, make sure the library loaded at runtime is compatible with the version specified during compile configuration.\n",
      "/home/ubuntu/MCHMC/MCLMC.py:42: UserWarning: To copy construct from a tensor, it is recommended to use sourceTensor.detach().clone() or sourceTensor.detach().clone().requires_grad_(True), rather than torch.tensor(sourceTensor).\n",
      "  x = torch.tensor(x, dtype=torch.float32, device=device)\n",
      "100%|████████████████████████████████████████████████████████████████████████████████████████████| 5000/5000 [01:10<00:00, 71.33it/s]\n",
      "100%|████████████████████████████████████████████████████████████████████████████████████████████| 5000/5000 [01:09<00:00, 72.08it/s]\n",
      "100%|████████████████████████████████████████████████████████████████████████████████████████████| 5000/5000 [01:09<00:00, 72.22it/s]\n",
      "100%|████████████████████████████████████████████████████████████████████████████████████████████| 5000/5000 [01:10<00:00, 70.62it/s]\n"
     ]
    }
   ],
   "source": [
    "row = df[(df['algorithm'] == 'MCLMC') & (df['integ_scheme'] == 'minimal_norm')]\n",
    "eps = row['eps'].values[0]\n",
    "eps = torch.tensor(eps, device=utils.choose_device())\n",
    "L = row['L'].values[0]\n",
    "L = torch.tensor(L, device=utils.choose_device())\n",
    "\n",
    "X, ess_mean, ess_min, ess_truth = MCLMC.MCLMC_chain(n_chains, d, fn, L, eps, int_scheme=integ.minimal_norm)"
   ]
  },
  {
   "cell_type": "code",
   "execution_count": 8,
   "id": "318a83f0-b93b-4bf9-8cc1-2e186cd6253c",
   "metadata": {},
   "outputs": [
    {
     "data": {
      "image/png": "[encoded data removed]",
      "text/plain": [
       "<Figure size 640x480 with 1 Axes>"
      ]
     },
     "metadata": {},
     "output_type": "display_data"
    }
   ],
   "source": [
    "x = np.linspace(-20, 20, 10000)\n",
    "pdf = 0.8 * norm.pdf(x, 0, 1) + 0.2 * norm.pdf(x, 8, 1)\n",
    "\n",
    "X = X.to(\"cpu\").detach().numpy()\n",
    "plt.hist(X[:,0], density=True, alpha=0.5, bins=50, color='blue', label='MCLMC-LF')\n",
    "plt.scatter(x, pdf, color='orange', s=1, label='exact')\n",
    "plt.legend()\n",
    "plt.show()"
   ]
  },
  {
   "cell_type": "code",
   "execution_count": null,
   "id": "ac908795-d2d4-4ff0-b5bf-0fef22cbfad5",
   "metadata": {},
   "outputs": [],
   "source": [
    "print(f'ESS with MCLMC and MN integrator \\n mean:  {ess_mean:.3f} \\n min: {ess_min:.3f} \\n ground truth: {ess_truth:.3f}')"
   ]
  }
 ],
 "metadata": {
  "kernelspec": {
   "display_name": "Python 3 (ipykernel)",
   "language": "python",
   "name": "python3"
  },
  "language_info": {
   "codemirror_mode": {
    "name": "ipython",
    "version": 3
   },
   "file_extension": ".py",
   "mimetype": "text/x-python",
   "name": "python",
   "nbconvert_exporter": "python",
   "pygments_lexer": "ipython3",
   "version": "3.10.12"
  }
 },
 "nbformat": 4,
 "nbformat_minor": 5
}
