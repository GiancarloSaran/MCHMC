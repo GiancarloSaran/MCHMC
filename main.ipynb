{
 "cells": [
  {
   "cell_type": "code",
   "execution_count": null,
   "id": "0dd11142",
   "metadata": {
    "vscode": {
     "languageId": "plaintext"
    }
   },
   "outputs": [],
   "source": [
    "import torch\n",
    "import numpy as np  \n",
    "import sys\n",
    "\n",
    "from utils import checkpoint, warning\n",
    "import utils\n",
    "import MCHMC, MCLMC\n",
    "import autotuning as aut\n",
    "import integration_schemes as integ\n",
    "import functions as funct\n",
    "import visualization as vis"
   ]
  },
  {
   "cell_type": "code",
   "execution_count": null,
   "id": "3ab1bf2b",
   "metadata": {
    "vscode": {
     "languageId": "plaintext"
    }
   },
   "outputs": [],
   "source": [
    "debug = True\n",
    "\n",
    "# ALGORITHM PARAMETERS\n",
    "d = 1000  # dimension of the problem\n",
    "N = 10000 # number of steps\n",
    "\n",
    "# AUTOTUNING PARAMETERS\n",
    "L_init = 10\n",
    "N_prerun_eps = 100\n",
    "iterations_eps = 10\n",
    "N_prerun_L = 100"
   ]
  },
  {
   "cell_type": "code",
   "execution_count": null,
   "id": "9a6974c8",
   "metadata": {
    "vscode": {
     "languageId": "plaintext"
    }
   },
   "outputs": [],
   "source": [
    "eps, X, E = aut.tune_eps(d, L_init, funct.standard_cauchy, N_prerun_eps, iterations=iterations_eps, debug=debug)\n",
    "epsilon_opt = eps[-1]\n",
    "\n",
    "sigma_eff = aut.s_eff(X)\n",
    "L_opt = aut.tune_L(d, sigma_eff, epsilon_opt, N_prerun_L, funct.standard_cauchy, debug)\n",
    "\n",
    "K = int(L_opt//epsilon_opt) #  steps between bounces\n",
    "\n",
    "checkpoint(f\"Number of steps N = {N}\")\n",
    "checkpoint(f\"Steps between bounces K = {K}\")\n",
    "checkpoint(f\"Number of bounces: {int(N//K)}\")"
   ]
  },
  {
   "cell_type": "code",
   "execution_count": null,
   "id": "021f537f",
   "metadata": {
    "vscode": {
     "languageId": "plaintext"
    }
   },
   "outputs": [],
   "source": [
    "\n",
    "X, E, ESS, B_squared = MCHMC.MCHMC_bounces(d, N, L_opt, epsilon_opt, funct.standard_cauchy, integ.leapfrog, debug=debug)\n",
    "\n",
    "#plotting the results\n",
    "vis.plot_cauchy(X)"
   ]
  }
 ],
 "metadata": {
  "language_info": {
   "name": "python"
  }
 },
 "nbformat": 4,
 "nbformat_minor": 5
}
