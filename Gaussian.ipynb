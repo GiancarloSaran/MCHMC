{
 "cells": [
  {
   "cell_type": "code",
   "execution_count": 1,
   "id": "98c9a740-6dc7-463e-9963-b0f8e3b22e91",
   "metadata": {},
   "outputs": [],
   "source": [
    "import torch\n",
    "from tqdm import tqdm\n",
    "import numpy as np\n",
    "import sys\n",
    "import matplotlib.pyplot as plt\n",
    "import importlib\n",
    "import pandas as pd\n",
    "from scipy.stats import norm \n",
    "\n",
    "from utils import checkpoint, warning\n",
    "import utils\n",
    "import MCHMC, MCLMC\n",
    "import autotuning as aut\n",
    "import integration_schemes as integ\n",
    "import functions as funct\n",
    "import metrics\n",
    "\n",
    "np.random.seed(0)"
   ]
  },
  {
   "cell_type": "code",
   "execution_count": 2,
   "id": "96f57d22-009f-4ec7-9aa5-9eec755506b8",
   "metadata": {},
   "outputs": [],
   "source": [
    "importlib.reload(utils)\n",
    "importlib.reload(MCHMC)\n",
    "importlib.reload(MCLMC)\n",
    "importlib.reload(aut)\n",
    "importlib.reload(integ)\n",
    "importlib.reload(funct)\n",
    "importlib.reload(metrics);"
   ]
  },
  {
   "cell_type": "markdown",
   "id": "3f64a517-f678-4cdc-9ad7-37b3a0a76981",
   "metadata": {},
   "source": [
    "## Global parameter optimization"
   ]
  },
  {
   "cell_type": "code",
   "execution_count": 3,
   "id": "14f635a3-8657-49e8-b14f-2d1bf4d10a3b",
   "metadata": {},
   "outputs": [],
   "source": [
    "fn = funct.ill_cond_gaussian\n",
    "d = 100\n",
    "n_chains = 5\n",
    "\n",
    "'''\n",
    "cov = funct.get_ill_cov(d)\n",
    "np.savetxt('gaussian_cov.csv', cov, delimiter=',', fmt='%d')\n",
    "'''\n",
    "cov = np.loadtxt('gaussian_cov.csv', delimiter=',')"
   ]
  },
  {
   "cell_type": "code",
   "execution_count": null,
   "id": "0b0bdcc1-258c-43db-9cd2-a646d7955e1c",
   "metadata": {
    "scrolled": true
   },
   "outputs": [],
   "source": [
    "# create a csv file with the optimal hyperparameters value for all possible combinations \n",
    "#aut.get_hyperparams(fn=fn, d=d, L_init=5, output_csv='gaussian_hyperparams.cvs', cov=cov)"
   ]
  },
  {
   "cell_type": "code",
   "execution_count": 5,
   "id": "abd10617-dd55-42f0-ae92-5c3035de25e6",
   "metadata": {},
   "outputs": [
    {
     "data": {
      "text/html": [
       "<div>\n",
       "<style scoped>\n",
       "    .dataframe tbody tr th:only-of-type {\n",
       "        vertical-align: middle;\n",
       "    }\n",
       "\n",
       "    .dataframe tbody tr th {\n",
       "        vertical-align: top;\n",
       "    }\n",
       "\n",
       "    .dataframe thead th {\n",
       "        text-align: right;\n",
       "    }\n",
       "</style>\n",
       "<table border=\"1\" class=\"dataframe\">\n",
       "  <thead>\n",
       "    <tr style=\"text-align: right;\">\n",
       "      <th></th>\n",
       "      <th>algorithm</th>\n",
       "      <th>integ_scheme</th>\n",
       "      <th>eps</th>\n",
       "      <th>L</th>\n",
       "    </tr>\n",
       "  </thead>\n",
       "  <tbody>\n",
       "    <tr>\n",
       "      <th>0</th>\n",
       "      <td>MCHMC_bounces</td>\n",
       "      <td>leapfrog</td>\n",
       "      <td>1.504047</td>\n",
       "      <td>11.936664</td>\n",
       "    </tr>\n",
       "    <tr>\n",
       "      <th>1</th>\n",
       "      <td>MCHMC_bounces</td>\n",
       "      <td>minimal_norm</td>\n",
       "      <td>5.494773</td>\n",
       "      <td>23.877191</td>\n",
       "    </tr>\n",
       "    <tr>\n",
       "      <th>2</th>\n",
       "      <td>MCLMC</td>\n",
       "      <td>leapfrog</td>\n",
       "      <td>1.378571</td>\n",
       "      <td>13.313406</td>\n",
       "    </tr>\n",
       "    <tr>\n",
       "      <th>3</th>\n",
       "      <td>MCLMC</td>\n",
       "      <td>minimal_norm</td>\n",
       "      <td>5.766019</td>\n",
       "      <td>17.974038</td>\n",
       "    </tr>\n",
       "  </tbody>\n",
       "</table>\n",
       "</div>"
      ],
      "text/plain": [
       "       algorithm  integ_scheme       eps          L\n",
       "0  MCHMC_bounces      leapfrog  1.504047  11.936664\n",
       "1  MCHMC_bounces  minimal_norm  5.494773  23.877191\n",
       "2          MCLMC      leapfrog  1.378571  13.313406\n",
       "3          MCLMC  minimal_norm  5.766019  17.974038"
      ]
     },
     "execution_count": 5,
     "metadata": {},
     "output_type": "execute_result"
    }
   ],
   "source": [
    "df = pd.read_csv('hyperparameters/gaussian_hyperparams.cvs')\n",
    "df"
   ]
  },
  {
   "cell_type": "markdown",
   "id": "cc2e3496-5b49-4d3d-808e-91a867c1e2b9",
   "metadata": {},
   "source": [
    "# Microcanonical Hamiltonian Monte Carlo \n",
    "## Leapfrog"
   ]
  },
  {
   "cell_type": "code",
   "execution_count": 25,
   "id": "e35b0f88-b8eb-45b7-8bb9-807c96781ade",
   "metadata": {
    "collapsed": true,
    "jupyter": {
     "outputs_hidden": true
    },
    "scrolled": true
   },
   "outputs": [
    {
     "name": "stderr",
     "output_type": "stream",
     "text": [
      "100%|███████████████████████████████████████████████████████████████████████████████████████████| 5000/5000 [00:30<00:00, 163.31it/s]\n",
      "100%|███████████████████████████████████████████████████████████████████████████████████████████| 5000/5000 [00:31<00:00, 156.68it/s]\n",
      "100%|███████████████████████████████████████████████████████████████████████████████████████████| 5000/5000 [00:30<00:00, 163.24it/s]\n",
      "100%|███████████████████████████████████████████████████████████████████████████████████████████| 5000/5000 [00:29<00:00, 171.57it/s]\n",
      "100%|███████████████████████████████████████████████████████████████████████████████████████████| 5000/5000 [00:30<00:00, 166.17it/s]\n"
     ]
    }
   ],
   "source": [
    "row = df[(df['algorithm'] == 'MCHMC_bounces') & (df['integ_scheme'] == 'leapfrog')]\n",
    "eps = row['eps'].values[0]\n",
    "L = row['L'].values[0]\n",
    "\n",
    "X, ess_mean, ess_min, ess_truth = MCHMC.MCHMC_chain(n_chains, d, fn, L, eps, int_scheme=integ.leapfrog, cov=cov)"
   ]
  },
  {
   "cell_type": "code",
   "execution_count": 26,
   "id": "e058014e-4492-4221-8550-a6791a4a051e",
   "metadata": {},
   "outputs": [
    {
     "name": "stdout",
     "output_type": "stream",
     "text": [
      "ESS with MCHMC-bounces and LF integrator \n",
      " mean: nan \n",
      " min: nan \n",
      " ground truth: 0.024\n"
     ]
    }
   ],
   "source": [
    "print(f'ESS with MCHMC-bounces and LF integrator \\n mean: {ess_mean:.3f} \\n min: {ess_min:.3f} \\n ground truth: {ess_truth:.3f}')"
   ]
  },
  {
   "cell_type": "code",
   "execution_count": 27,
   "id": "c6f455f2-4f6e-48f0-bf16-a4ea1de84669",
   "metadata": {},
   "outputs": [
    {
     "data": {
      "image/png": "[encoded data removed]",
      "text/plain": [
       "<Figure size 640x480 with 1 Axes>"
      ]
     },
     "metadata": {},
     "output_type": "display_data"
    }
   ],
   "source": [
    "x = np.linspace(-10, 10, 10000)\n",
    "pdf = norm.pdf(x, 0, cov[0,0]) \n",
    "\n",
    "X = X.to(\"cpu\").detach().numpy()\n",
    "plt.hist(X[:,0], density=True, alpha=0.5, bins=50, color='blue', label='MCHMC-LF')\n",
    "plt.scatter(x, pdf, color='orange', s=1, label='exact')\n",
    "plt.legend()\n",
    "plt.xlabel('x')\n",
    "plt.ylabel('density')\n",
    "plt.savefig('./plots/gaussian_hamiltonian_LF.svg', format='svg')\n",
    "plt.show()"
   ]
  },
  {
   "cell_type": "markdown",
   "id": "1f2506cc-7420-4a03-b442-33a4615be5c6",
   "metadata": {},
   "source": [
    "## Minimal norm"
   ]
  },
  {
   "cell_type": "code",
   "execution_count": 6,
   "id": "8d8b56e6-8b69-409f-92be-98f33a9f93a4",
   "metadata": {
    "collapsed": true,
    "jupyter": {
     "outputs_hidden": true
    }
   },
   "outputs": [
    {
     "name": "stderr",
     "output_type": "stream",
     "text": [
      "100%|████████████████████████████████████████████████████████████████████████████████████████| 5000/5000 [00:40<00:00, 124.90it/s]\n",
      "100%|████████████████████████████████████████████████████████████████████████████████████████| 5000/5000 [00:40<00:00, 124.37it/s]\n",
      "100%|████████████████████████████████████████████████████████████████████████████████████████| 5000/5000 [00:40<00:00, 124.90it/s]\n",
      "100%|████████████████████████████████████████████████████████████████████████████████████████| 5000/5000 [00:40<00:00, 124.69it/s]\n",
      "100%|████████████████████████████████████████████████████████████████████████████████████████| 5000/5000 [00:39<00:00, 125.87it/s]\n"
     ]
    }
   ],
   "source": [
    "row = df[(df['algorithm'] == 'MCHMC_bounces') & (df['integ_scheme'] == 'minimal_norm')]\n",
    "eps = row['eps'].values[0]\n",
    "L = row['L'].values[0]\n",
    "\n",
    "X, ess_mean, ess_min, ess_truth = MCHMC.MCHMC_chain(n_chains, d, fn, L, eps, int_scheme=integ.minimal_norm, cov=cov)"
   ]
  },
  {
   "cell_type": "code",
   "execution_count": 7,
   "id": "d0438f71-ef82-4070-93b3-a83300b9bcaf",
   "metadata": {},
   "outputs": [
    {
     "name": "stdout",
     "output_type": "stream",
     "text": [
      "ESS with MCHMC-bounces and MN integrator \n",
      " mean: 0.076 \n",
      " min: 0.039 \n",
      " ground truth: 0.076\n"
     ]
    }
   ],
   "source": [
    "print(f'ESS with MCHMC-bounces and MN integrator \\n mean: {ess_mean:.3f} \\n min: {ess_min:.3f} \\n ground truth: {ess_truth:.3f}')"
   ]
  },
  {
   "cell_type": "code",
   "execution_count": 9,
   "id": "353b9d58-21e6-4ea3-a81c-0439e1c13f8c",
   "metadata": {},
   "outputs": [],
   "source": [
    "x = np.linspace(-10, 10, 10000)\n",
    "pdf = norm.pdf(x, 0, cov[0,0]) "
   ]
  },
  {
   "cell_type": "code",
   "execution_count": 11,
   "id": "3d2a5c08-0563-4b9a-a7b4-f3185a646e89",
   "metadata": {},
   "outputs": [
    {
     "data": {
      "image/png": "[encoded data removed]",
      "text/plain": [
       "<Figure size 640x480 with 1 Axes>"
      ]
     },
     "metadata": {},
     "output_type": "display_data"
    }
   ],
   "source": [
    "X = X.to(\"cpu\").detach().numpy()\n",
    "plt.hist(X[:,0], density=True, alpha=0.5, bins=50, color='blue', label='MCHMC-MN')\n",
    "plt.scatter(x, pdf, color='orange', s=1, label='exact')\n",
    "plt.legend()\n",
    "plt.xlabel('x')\n",
    "plt.ylabel('density')\n",
    "plt.savefig('./plots/gaussian_hamiltonian_MN.svg', format='svg')\n",
    "plt.show()"
   ]
  },
  {
   "cell_type": "markdown",
   "id": "bcdb3c4e-ebd1-4d0f-bac6-920abb5200bc",
   "metadata": {},
   "source": [
    "------\n",
    "# Langevin Like Hamiltonian Monte Carlo \n",
    "## Leapfrog"
   ]
  },
  {
   "cell_type": "code",
   "execution_count": 28,
   "id": "052e9eb6-c59a-4923-a6d3-b308b5572d9d",
   "metadata": {
    "collapsed": true,
    "jupyter": {
     "outputs_hidden": true
    }
   },
   "outputs": [
    {
     "name": "stderr",
     "output_type": "stream",
     "text": [
      "100%|███████████████████████████████████████████████████████████████████████████████████████████| 5000/5000 [00:31<00:00, 156.35it/s]\n",
      "100%|███████████████████████████████████████████████████████████████████████████████████████████| 5000/5000 [00:31<00:00, 156.32it/s]\n",
      "100%|███████████████████████████████████████████████████████████████████████████████████████████| 5000/5000 [00:31<00:00, 156.61it/s]\n",
      "100%|███████████████████████████████████████████████████████████████████████████████████████████| 5000/5000 [00:32<00:00, 155.49it/s]\n",
      "100%|███████████████████████████████████████████████████████████████████████████████████████████| 5000/5000 [00:31<00:00, 156.52it/s]\n"
     ]
    }
   ],
   "source": [
    "row = df[(df['algorithm'] == 'MCLMC') & (df['integ_scheme'] == 'leapfrog')]\n",
    "eps = row['eps'].values[0]\n",
    "eps = torch.tensor(eps, device=utils.choose_device())\n",
    "L = row['L'].values[0]\n",
    "L = torch.tensor(L, device=utils.choose_device())\n",
    "\n",
    "X, ess_mean, ess_min, ess_truth = MCLMC.MCLMC_chain(n_chains, d, fn, L, eps, int_scheme=integ.leapfrog, cov=cov)"
   ]
  },
  {
   "cell_type": "code",
   "execution_count": 29,
   "id": "2e8b3943-90ff-44ad-b71b-54085e354af7",
   "metadata": {},
   "outputs": [
    {
     "name": "stdout",
     "output_type": "stream",
     "text": [
      "ESS with MCLMC and LF integrator \n",
      " mean: 0.023 \n",
      " min: nan \n",
      " ground truth: 0.028\n"
     ]
    }
   ],
   "source": [
    "print(f'ESS with MCLMC and LF integrator \\n mean: {ess_mean:.3f} \\n min: {ess_min:.3f} \\n ground truth: {ess_truth:.3f}')"
   ]
  },
  {
   "cell_type": "code",
   "execution_count": 30,
   "id": "9d5083f7-40c7-49b0-85ac-632a44026f3a",
   "metadata": {},
   "outputs": [
    {
     "data": {
      "image/png": "[encoded data removed]",
      "text/plain": [
       "<Figure size 640x480 with 1 Axes>"
      ]
     },
     "metadata": {},
     "output_type": "display_data"
    }
   ],
   "source": [
    "X = X.to(\"cpu\").detach().numpy()\n",
    "plt.hist(X[:,0], density=True, alpha=0.5, bins=50, color='blue', label='MCLMC-LF')\n",
    "plt.scatter(x, pdf, color='orange', s=1, label='exact')\n",
    "plt.legend()\n",
    "plt.xlabel('x')\n",
    "plt.ylabel('density')\n",
    "plt.savefig('./plots/gaussian_langevin_LF.svg', format='svg')\n",
    "plt.show()"
   ]
  },
  {
   "cell_type": "markdown",
   "id": "7a528c9d-b123-4e36-ae4f-ca40ba6ff401",
   "metadata": {},
   "source": [
    "## Minimal Norm"
   ]
  },
  {
   "cell_type": "code",
   "execution_count": 12,
   "id": "dc7c9e48-ba29-4c13-b1f9-dfcd9aef811e",
   "metadata": {
    "collapsed": true,
    "jupyter": {
     "outputs_hidden": true
    },
    "scrolled": true
   },
   "outputs": [
    {
     "name": "stderr",
     "output_type": "stream",
     "text": [
      "100%|████████████████████████████████████████████████████████████████████████████████████████| 5000/5000 [00:41<00:00, 121.76it/s]\n",
      "100%|████████████████████████████████████████████████████████████████████████████████████████| 5000/5000 [00:41<00:00, 121.32it/s]\n",
      "100%|████████████████████████████████████████████████████████████████████████████████████████| 5000/5000 [00:40<00:00, 122.20it/s]\n",
      "100%|████████████████████████████████████████████████████████████████████████████████████████| 5000/5000 [00:40<00:00, 122.55it/s]\n",
      "100%|████████████████████████████████████████████████████████████████████████████████████████| 5000/5000 [00:41<00:00, 121.04it/s]\n"
     ]
    }
   ],
   "source": [
    "row = df[(df['algorithm'] == 'MCLMC') & (df['integ_scheme'] == 'minimal_norm')]\n",
    "eps = row['eps'].values[0]\n",
    "eps = torch.tensor(eps, device=utils.choose_device())\n",
    "L = row['L'].values[0]\n",
    "L = torch.tensor(L, device=utils.choose_device())\n",
    "\n",
    "X, ess_mean, ess_min, ess_truth = MCLMC.MCLMC_chain(n_chains, d, fn, L, eps, int_scheme=integ.minimal_norm, cov=cov)"
   ]
  },
  {
   "cell_type": "code",
   "execution_count": 13,
   "id": "ac908795-d2d4-4ff0-b5bf-0fef22cbfad5",
   "metadata": {},
   "outputs": [
    {
     "name": "stdout",
     "output_type": "stream",
     "text": [
      "ESS with MCLMC and MN integrator \n",
      " mean: 0.076 \n",
      " min: 0.039 \n",
      " ground truth: 0.076\n"
     ]
    }
   ],
   "source": [
    "print(f'ESS with MCLMC and MN integrator \\n mean: {ess_mean:.3f} \\n min: {ess_min:.3f} \\n ground truth: {ess_truth:.3f}')"
   ]
  },
  {
   "cell_type": "code",
   "execution_count": 14,
   "id": "318a83f0-b93b-4bf9-8cc1-2e186cd6253c",
   "metadata": {},
   "outputs": [
    {
     "data": {
      "image/png": "[encoded data removed]",
      "text/plain": [
       "<Figure size 640x480 with 1 Axes>"
      ]
     },
     "metadata": {},
     "output_type": "display_data"
    }
   ],
   "source": [
    "X = X.to(\"cpu\").detach().numpy()\n",
    "plt.hist(X[:,0], density=True, alpha=0.5, bins=50, color='blue', label='MCLMC-MN')\n",
    "plt.scatter(x, pdf, color='orange', s=1, label='exact')\n",
    "plt.legend()\n",
    "plt.xlabel('x')\n",
    "plt.ylabel('density')\n",
    "plt.savefig('./plots/gaussian_langevin_MN.svg', format='svg')\n",
    "plt.show()"
   ]
  }
 ],
 "metadata": {
  "kernelspec": {
   "display_name": "Python 3 (ipykernel)",
   "language": "python",
   "name": "python3"
  },
  "language_info": {
   "codemirror_mode": {
    "name": "ipython",
    "version": 3
   },
   "file_extension": ".py",
   "mimetype": "text/x-python",
   "name": "python",
   "nbconvert_exporter": "python",
   "pygments_lexer": "ipython3",
   "version": "3.10.12"
  }
 },
 "nbformat": 4,
 "nbformat_minor": 5
}
